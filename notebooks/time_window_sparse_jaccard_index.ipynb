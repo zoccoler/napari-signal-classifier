{
 "cells": [
  {
   "cell_type": "code",
   "execution_count": 1,
   "metadata": {},
   "outputs": [
    {
     "name": "stdout",
     "output_type": "stream",
     "text": [
      "   Window1  Window2  JaccardIndex\n",
      "0        1        4      0.666667\n",
      "1        1        6      1.000000\n",
      "2        2        5      0.333333\n",
      "3        4        6      0.666667\n",
      "   Window1  Window2  JaccardIndex\n",
      "0        1        4      0.666667\n",
      "1        1        6      1.000000\n",
      "3        4        6      0.666667\n"
     ]
    }
   ],
   "source": [
    "import numpy as np\n",
    "import pandas as pd\n",
    "from scipy.sparse import csr_matrix\n",
    "import matplotlib.pyplot as plt\n",
    "\n",
    "def calculate_jaccard_index(arrays):\n",
    "    \"\"\"\n",
    "    Calculates the Jaccard index for pairs of overlapping time windows.\n",
    "    \n",
    "    Parameters:\n",
    "    arrays (list of np.array): A list of 1D arrays where each array represents time windows.\n",
    "    \n",
    "    Returns:\n",
    "    pd.DataFrame: A DataFrame containing pairs of window ids and their Jaccard index.\n",
    "    \"\"\"\n",
    "    # Concatenate all arrays to identify unique window IDs and the total length\n",
    "    concatenated = np.concatenate(arrays)\n",
    "    unique_windows = np.unique(concatenated)\n",
    "    unique_windows = unique_windows[unique_windows > 0]  # Exclude 0, as it represents no window\n",
    "    \n",
    "    # Create a sparse matrix of shape (num_unique_windows, total_length)\n",
    "    total_length = len(arrays[0])\n",
    "    num_windows = len(unique_windows)\n",
    "    window_to_index = {window: idx for idx, window in enumerate(unique_windows)}\n",
    "    \n",
    "    data = []\n",
    "    rows = []\n",
    "    cols = []\n",
    "    \n",
    "    for array in arrays:\n",
    "        for time_point, window in enumerate(array):\n",
    "            if window > 0:\n",
    "                rows.append(window_to_index[window])\n",
    "                cols.append(time_point)\n",
    "                data.append(1)\n",
    "    \n",
    "    sparse_matrix = csr_matrix((data, (rows, cols)), shape=(num_windows, total_length))\n",
    "    \n",
    "    jaccard_results = []\n",
    "    \n",
    "    # Compare each pair of unique windows\n",
    "    for i in range(num_windows):\n",
    "        for j in range(i + 1, num_windows):\n",
    "            # Find intersection and union\n",
    "            intersection = sparse_matrix[i].multiply(sparse_matrix[j]).sum()\n",
    "            union = sparse_matrix[i].maximum(sparse_matrix[j]).sum()\n",
    "            \n",
    "            if union > 0:\n",
    "                jaccard_index = intersection / union\n",
    "                if intersection > 0:  # Only consider overlapping windows\n",
    "                    window1 = unique_windows[i]\n",
    "                    window2 = unique_windows[j]\n",
    "                    jaccard_results.append((window1, window2, jaccard_index))\n",
    "    \n",
    "    # Convert results to a DataFrame\n",
    "    jaccard_df = pd.DataFrame(jaccard_results, columns=['Window1', 'Window2', 'JaccardIndex'])\n",
    "    \n",
    "    return jaccard_df\n",
    "\n",
    "# Example usage\n",
    "array1 = np.array([0, 0, 0, 0, 1, 1, 1, 0, 0, 2, 2, 2, 2, 0, 0])\n",
    "array2 = np.array([3, 3, 0, 0, 0, 4, 4, 0, 0, 0, 0, 5, 5, 5, 5])\n",
    "array3 = np.array([0, 0, 0, 0, 6, 6, 6, 6, 0, 0, 0, 0, 0, 0, 0])\n",
    "\n",
    "results_df = calculate_jaccard_index([array1, array2, array3])\n",
    "print(results_df)\n",
    "\n",
    "# Example filtering\n",
    "filtered_results_df = results_df[results_df['JaccardIndex'] > 0.5]\n",
    "print(filtered_results_df)\n"
   ]
  },
  {
   "cell_type": "code",
   "execution_count": 5,
   "metadata": {},
   "outputs": [],
   "source": [
    "slice1 = slice(4, 7, 1)\n",
    "slice2 = slice(9, 13, 1)\n",
    "slice3 = slice(0, 2, 1)\n",
    "slice4 = slice(5, 7, 1)\n",
    "slice5 = slice(11, 15, 1)\n",
    "slice6 = slice(4, 8, 1)"
   ]
  },
  {
   "cell_type": "code",
   "execution_count": 10,
   "metadata": {},
   "outputs": [
    {
     "name": "stdout",
     "output_type": "stream",
     "text": [
      "[slice(4, 8, None), slice(9, 13, 1), slice(0, 2, 1), slice(11, 15, 1)]\n"
     ]
    }
   ],
   "source": [
    "def calculate_jaccard_index(slice1, slice2):\n",
    "    range1 = set(range(slice1.start, slice1.stop))\n",
    "    range2 = set(range(slice2.start, slice2.stop))\n",
    "    intersection = len(range1.intersection(range2))\n",
    "    union = len(range1.union(range2))\n",
    "    return intersection / union if union else 0\n",
    "\n",
    "def merge_slices(slice1, slice2):\n",
    "    new_start = min(slice1.start, slice2.start)\n",
    "    new_stop = max(slice1.stop, slice2.stop)\n",
    "    return slice(new_start, new_stop)\n",
    "\n",
    "def can_merge(slice1, slice2, threshold):\n",
    "    return calculate_jaccard_index(slice1, slice2) > threshold\n",
    "\n",
    "def merge_slices_if_possible(slices, threshold):\n",
    "    merged = []\n",
    "    while slices:\n",
    "        current = slices.pop(0)\n",
    "        for i, other in enumerate(slices):\n",
    "            if can_merge(current, other, threshold):\n",
    "                current = merge_slices(current, other)\n",
    "                slices.pop(i)\n",
    "                slices.insert(0, current)  # Re-insert at start to check new slice against all others again\n",
    "                break\n",
    "        else:  # No merge occurred\n",
    "            merged.append(current)\n",
    "    return merged\n",
    "\n",
    "def get_merged_slices(slices, threshold):\n",
    "    return merge_slices_if_possible(slices, threshold)\n",
    "\n",
    "# Example usage\n",
    "slices = [slice(4, 7, 1), slice(9, 13, 1), slice(0, 2, 1), slice(5, 7, 1), slice(11, 15, 1), slice(4, 8, 1)]\n",
    "threshold = 0.5\n",
    "merged_slices = get_merged_slices(slices, threshold)\n",
    "print(merged_slices)"
   ]
  },
  {
   "cell_type": "code",
   "execution_count": null,
   "metadata": {},
   "outputs": [],
   "source": [
    "slice1 = slice(4, 7, 1) #\n",
    "slice2 = slice(9, 13, 1)\n",
    "slice3 = slice(0, 2, 1)\n",
    "slice4 = slice(5, 7, 1) #\n",
    "slice5 = slice(11, 15, 1)\n",
    "slice6 = slice(4, 8, 1) #"
   ]
  },
  {
   "cell_type": "code",
   "execution_count": 3,
   "metadata": {},
   "outputs": [
    {
     "name": "stdout",
     "output_type": "stream",
     "text": [
      "8.57 ms ± 91 µs per loop (mean ± std. dev. of 7 runs, 100 loops each)\n"
     ]
    }
   ],
   "source": [
    "%%timeit\n",
    "results_df = calculate_jaccard_index([array1, array2, array3])"
   ]
  },
  {
   "cell_type": "code",
   "execution_count": 11,
   "metadata": {},
   "outputs": [
    {
     "name": "stdout",
     "output_type": "stream",
     "text": [
      "150 ns ± 1.8 ns per loop (mean ± std. dev. of 7 runs, 10,000,000 loops each)\n"
     ]
    }
   ],
   "source": [
    "%%timeit\n",
    "merged_slices = get_merged_slices(slices, threshold)"
   ]
  },
  {
   "cell_type": "markdown",
   "metadata": {},
   "source": [
    "Modified version to use dictionary with keys being sub_label ids and values being slices. If merged, new id is a string that combines previous ids by dashes."
   ]
  },
  {
   "cell_type": "code",
   "execution_count": 12,
   "metadata": {},
   "outputs": [
    {
     "name": "stdout",
     "output_type": "stream",
     "text": [
      "{'1-4-6': slice(4, 8, None), 2: slice(9, 13, 1), 3: slice(0, 2, 1), 5: slice(11, 15, 1)}\n"
     ]
    }
   ],
   "source": [
    "def calculate_jaccard_index(slice1, slice2):\n",
    "    range1 = set(range(slice1.start, slice1.stop))\n",
    "    range2 = set(range(slice2.start, slice2.stop))\n",
    "    intersection = len(range1.intersection(range2))\n",
    "    union = len(range1.union(range2))\n",
    "    return intersection / union if union else 0\n",
    "\n",
    "def merge_slices(slice1, slice2):\n",
    "    new_start = min(slice1.start, slice2.start)\n",
    "    new_stop = max(slice1.stop, slice2.stop)\n",
    "    return slice(new_start, new_stop)\n",
    "\n",
    "def can_merge(slice1, slice2, threshold):\n",
    "    return calculate_jaccard_index(slice1, slice2) > threshold\n",
    "\n",
    "def merge_slices_if_possible(slices_dict, threshold):\n",
    "    merged_dict = {}\n",
    "    keys_to_delete = []\n",
    "    for id1, slice1 in slices_dict.items():\n",
    "        for id2, slice2 in slices_dict.items():\n",
    "            if id1 != id2 and id1 not in keys_to_delete and id2 not in keys_to_delete:\n",
    "                if can_merge(slice1, slice2, threshold):\n",
    "                    merged_slice = merge_slices(slice1, slice2)\n",
    "                    new_id = f\"{id1}-{id2}\"  # Generate a new ID by concatenating the IDs of the merged slices\n",
    "                    merged_dict[new_id] = merged_slice\n",
    "                    keys_to_delete.extend([id1, id2])\n",
    "                    break\n",
    "        if id1 not in keys_to_delete:\n",
    "            merged_dict[id1] = slice1  # Add unmerged slices as they are\n",
    "    return merged_dict\n",
    "\n",
    "def get_merged_slices(slices_dict, threshold):\n",
    "    while True:\n",
    "        new_merged_dict = merge_slices_if_possible(slices_dict, threshold)\n",
    "        if new_merged_dict == slices_dict:  # No further merges possible\n",
    "            break\n",
    "        slices_dict = new_merged_dict\n",
    "    return slices_dict\n",
    "\n",
    "# Example usage\n",
    "slices_dict = {\n",
    "    1: slice(4, 7, 1),\n",
    "    2: slice(9, 13, 1),\n",
    "    3: slice(0, 2, 1),\n",
    "    4: slice(5, 7, 1),\n",
    "    5: slice(11, 15, 1),\n",
    "    6: slice(4, 8, 1)\n",
    "}\n",
    "threshold = 0.5\n",
    "merged_slices_dict = get_merged_slices(slices_dict, threshold)\n",
    "print(merged_slices_dict)"
   ]
  },
  {
   "cell_type": "code",
   "execution_count": null,
   "metadata": {},
   "outputs": [],
   "source": []
  }
 ],
 "metadata": {
  "kernelspec": {
   "display_name": "napari-sc-tsfresh-dev",
   "language": "python",
   "name": "python3"
  },
  "language_info": {
   "codemirror_mode": {
    "name": "ipython",
    "version": 3
   },
   "file_extension": ".py",
   "mimetype": "text/x-python",
   "name": "python",
   "nbconvert_exporter": "python",
   "pygments_lexer": "ipython3",
   "version": "3.9.16"
  }
 },
 "nbformat": 4,
 "nbformat_minor": 2
}
